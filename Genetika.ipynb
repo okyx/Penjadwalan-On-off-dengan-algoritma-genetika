{
  "nbformat": 4,
  "nbformat_minor": 0,
  "metadata": {
    "colab": {
      "name": "Untitled0.ipynb",
      "provenance": [],
      "collapsed_sections": []
    },
    "kernelspec": {
      "name": "python3",
      "display_name": "Python 3"
    }
  },
  "cells": [
    {
      "cell_type": "markdown",
      "metadata": {
        "id": "xsHxnwAKg3WZ"
      },
      "source": [
        "Import Library random and numpy"
      ]
    },
    {
      "cell_type": "code",
      "metadata": {
        "id": "TqhqHCBZ-xkU"
      },
      "source": [
        "import numpy as np\r\n",
        "import random"
      ],
      "execution_count": 176,
      "outputs": []
    },
    {
      "cell_type": "markdown",
      "metadata": {
        "id": "c56pyRJxAmzA"
      },
      "source": [
        "Pembentukan populasi dan hyperparameter berupa probability crossover and probabilty mutasi"
      ]
    },
    {
      "cell_type": "code",
      "metadata": {
        "id": "k2PJE5ji_EFE"
      },
      "source": [
        "populasi = np.zeros((10,3,6),dtype=int)\r\n",
        "pc = 0.6;\r\n",
        "pm = 0.05;\r\n",
        "for i in range(10):\r\n",
        "  populasi[i]=np.random.randint(2,size=(3,6))"
      ],
      "execution_count": 177,
      "outputs": []
    },
    {
      "cell_type": "markdown",
      "metadata": {
        "id": "QFbh05PckpSI"
      },
      "source": [
        "Mengevaluasi nilai fitness"
      ]
    },
    {
      "cell_type": "code",
      "metadata": {
        "id": "PUSkWx1rhnsf"
      },
      "source": [
        "def getFitness(populasi):\r\n",
        "  fitness=np.zeros(populasi.shape[0],dtype=int);\r\n",
        "  for j in range(populasi.shape[0]):\r\n",
        "    #fitness\r\n",
        "    metta = 0;\r\n",
        "    KN = 0;\r\n",
        "    kerja = 0;\r\n",
        "    jmlkerja = 0;\r\n",
        "    neighbour=0;\r\n",
        "    for k in range(populasi.shape[2]):\r\n",
        "      metta = metta + int((populasi[j][0][k] == populasi[j][2][k]))\r\n",
        "      KN = KN+int((populasi[j][0][k] == populasi[j][1][k]))\r\n",
        "      kerja = int(not ((populasi[j][0][k] + populasi[j][1][k] + populasi[j][2][k])!=1 or (populasi[j][0][k] + populasi[j][1][k] + populasi[j][2][k])!=2))\r\n",
        "    jmlkerja = (np.sum(populasi[j][0])!=3)+(np.sum(populasi[j][1])!=3)+(np.sum(populasi[j][2])!=3)\r\n",
        "    budi = int((populasi[j][1][5]==0))*5\r\n",
        "    nieko = int((populasi[j][0][3]==0))*5\r\n",
        "    for u in range(1,populasi.shape[2],1):\r\n",
        "        if(populasi[j][0][u-1]==populasi[j][0][u]):\r\n",
        "          neighbour=neighbour+1;\r\n",
        "        if(populasi[j][1][u-1]==populasi[j][1][u]):\r\n",
        "          neighbour=neighbour+1;\r\n",
        "        if(populasi[j][1][u-1]==populasi[j][1][u]):\r\n",
        "          neighbour=neighbour+1;\r\n",
        "    total = metta+KN+kerja+jmlkerja+neighbour+budi+nieko;\r\n",
        "    fitness[j] = total;\r\n",
        "  return fitness;"
      ],
      "execution_count": 178,
      "outputs": []
    },
    {
      "cell_type": "markdown",
      "metadata": {
        "id": "n9VBPH09g-Dt"
      },
      "source": [
        "Algoritma Genetika"
      ]
    },
    {
      "cell_type": "code",
      "metadata": {
        "id": "aXny67dkAGkN"
      },
      "source": [
        "for i in range(100):\r\n",
        "  fitness=np.zeros(populasi.shape[0],dtype=int);\r\n",
        "  fitness = getFitness(populasi)\r\n",
        "\r\n",
        "  #roulette wheel\r\n",
        "  prob = fitness/sum(fitness)\r\n",
        "  cumsum = np.cumsum(prob);\r\n",
        "  cumsum = np.insert(cumsum,0,0)\r\n",
        "  selectedprob=[]\r\n",
        "  selectedindex=[]\r\n",
        "  for count in range(int(populasi.shape[0]*pc)):\r\n",
        "    selectedprob.append(random.uniform(0,1))\r\n",
        "  for count in range(int(populasi.shape[0]*pc)):\r\n",
        "    for counts in range(len(cumsum)-1):\r\n",
        "      if(cumsum[counts]<selectedprob[count] and cumsum[counts+1]>selectedprob[count]):\r\n",
        "        selectedindex.append(counts);\r\n",
        "        break\r\n",
        "  selectedpopulasi = populasi[selectedindex]\r\n",
        "\r\n",
        "\r\n",
        "  #offspring / crossover\r\n",
        "  for count in range(0,int(populasi.shape[0]*pc),2):\r\n",
        "    offspring = random.randint(0,3);\r\n",
        "    populasi1 = selectedpopulasi[count];\r\n",
        "    populasi2 = selectedpopulasi[count+1];\r\n",
        "    for counts in range(int(populasi.shape[1])):\r\n",
        "      for a in range(4,offspring-1,-1):\r\n",
        "        selectedpopulasi[count][counts][a] = populasi2[counts][a]\r\n",
        "        selectedpopulasi[count+1][counts][a] = populasi1[counts][a]\r\n",
        "\r\n",
        "\r\n",
        "  #mutation\r\n",
        "  mut = np.random.uniform(0,1,size=(selectedpopulasi.shape[0],selectedpopulasi.shape[1],selectedpopulasi.shape[2]))\r\n",
        "  mutasi = np.array(np.where(mut<0.05));\r\n",
        "  mutasi = np.transpose(mutasi)\r\n",
        "  for mutation in range(mutasi.shape[0]):\r\n",
        "    selectedpopulasi[mutasi[mutation][0]][mutasi[mutation][1]][mutasi[mutation][2]] = int (not selectedpopulasi[mutasi[mutation][0]][mutasi[mutation][1]][mutasi[mutation][2]])\r\n",
        "  populasisemua = np.vstack((populasi,selectedpopulasi))\r\n",
        "\r\n",
        "  \r\n",
        "  #seleksi populasi terbaik terpilih\r\n",
        "  arr = getFitness(populasisemua)\r\n",
        "  index = np.argsort(arr)\r\n",
        "  populasi = populasisemua[index[:10]]\r\n",
        "  "
      ],
      "execution_count": 179,
      "outputs": []
    },
    {
      "cell_type": "markdown",
      "metadata": {
        "id": "PFtR0Z8Clv9b"
      },
      "source": [
        "cek pelanggaran constrain"
      ]
    },
    {
      "cell_type": "code",
      "metadata": {
        "colab": {
          "base_uri": "https://localhost:8080/"
        },
        "id": "w29mZ0h1Bkdp",
        "outputId": "a5689b75-4b51-447d-cb70-8db0a2ff065b"
      },
      "source": [
        "fitness"
      ],
      "execution_count": 180,
      "outputs": [
        {
          "output_type": "execute_result",
          "data": {
            "text/plain": [
              "array([3, 3, 3, 3, 3, 3, 3, 3, 3, 3])"
            ]
          },
          "metadata": {
            "tags": []
          },
          "execution_count": 180
        }
      ]
    },
    {
      "cell_type": "markdown",
      "metadata": {
        "id": "KecRbrgElzlc"
      },
      "source": [
        "cek 10 solusi\r\n",
        "baris ke 1 jadwal kak nieko\r\n",
        "baris ke 2 jadwal kak budi\r\n",
        "baris ke 3 jadwal metta"
      ]
    },
    {
      "cell_type": "code",
      "metadata": {
        "colab": {
          "base_uri": "https://localhost:8080/"
        },
        "id": "NjR9KXa5JsU5",
        "outputId": "5d86514e-774d-4f89-8520-385053d686a4"
      },
      "source": [
        "populasi"
      ],
      "execution_count": 181,
      "outputs": [
        {
          "output_type": "execute_result",
          "data": {
            "text/plain": [
              "array([[[0, 1, 0, 1, 1, 0],\n",
              "        [1, 0, 1, 0, 0, 1],\n",
              "        [1, 0, 1, 0, 0, 1]],\n",
              "\n",
              "       [[0, 1, 0, 1, 1, 0],\n",
              "        [1, 0, 1, 0, 0, 1],\n",
              "        [1, 0, 1, 0, 0, 1]],\n",
              "\n",
              "       [[0, 1, 0, 1, 1, 0],\n",
              "        [1, 0, 1, 0, 0, 1],\n",
              "        [1, 0, 1, 0, 0, 1]],\n",
              "\n",
              "       [[0, 1, 0, 1, 1, 0],\n",
              "        [1, 0, 1, 0, 0, 1],\n",
              "        [1, 0, 1, 0, 0, 1]],\n",
              "\n",
              "       [[0, 1, 0, 1, 1, 0],\n",
              "        [1, 0, 1, 0, 0, 1],\n",
              "        [1, 0, 1, 0, 0, 1]],\n",
              "\n",
              "       [[0, 1, 0, 1, 1, 0],\n",
              "        [1, 0, 1, 0, 0, 1],\n",
              "        [1, 0, 1, 0, 0, 1]],\n",
              "\n",
              "       [[0, 1, 0, 1, 1, 0],\n",
              "        [1, 0, 1, 0, 0, 1],\n",
              "        [1, 0, 1, 0, 0, 1]],\n",
              "\n",
              "       [[0, 1, 0, 1, 1, 0],\n",
              "        [1, 0, 1, 0, 0, 1],\n",
              "        [1, 0, 1, 0, 0, 1]],\n",
              "\n",
              "       [[0, 1, 0, 1, 1, 0],\n",
              "        [1, 0, 1, 0, 0, 1],\n",
              "        [1, 0, 1, 0, 0, 1]],\n",
              "\n",
              "       [[0, 1, 0, 1, 1, 0],\n",
              "        [1, 0, 1, 0, 0, 1],\n",
              "        [1, 0, 1, 0, 0, 1]]])"
            ]
          },
          "metadata": {
            "tags": []
          },
          "execution_count": 181
        }
      ]
    }
  ]
}